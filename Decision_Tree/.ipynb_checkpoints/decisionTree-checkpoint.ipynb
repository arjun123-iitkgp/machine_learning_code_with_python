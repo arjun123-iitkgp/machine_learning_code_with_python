{
 "cells": [
  {
   "cell_type": "markdown",
   "metadata": {},
   "source": [
    "### 决策树分类的方式\n",
    "(1) ID3算法以信息增益为准则来进行选择划分属性，选择信息增益最大的；  \n",
    "(2) C4.5算法先从候选划分属性中找出信息增益高于平均水平的属性，再从中选择增益率最高的；  \n",
    "(3) CART算法使用“基尼指数”来选择划分属性，选择基尼值最小的属性作为划分属性.  \n",
    "\n",
    "数据集说明：  \n",
    "（0）年龄：0代表青年，1代表中年，2代表老年；  \n",
    "（1）有工作：0代表否，1代表是；  \n",
    "（2）有自己的房子：0代表否，1代表是；  \n",
    "（3）信贷情况：0代表一般，1代表好，2代表非常好；  \n",
    "（4）类别(是否给贷款)：no代表否，yes代表是。\n",
    "\n",
    "代码参考了：https://github.com/Erikfather/Decision_tree-python"
   ]
  },
  {
   "cell_type": "code",
   "execution_count": 6,
   "metadata": {},
   "outputs": [],
   "source": [
    "import os, sys\n",
    "import operator"
   ]
  },
  {
   "cell_type": "code",
   "execution_count": 7,
   "metadata": {},
   "outputs": [],
   "source": [
    "def readTrainData(fileName):\n",
    "    \"\"\"\n",
    "    年龄段：0代表青年，1代表中年，2代表老年；\n",
    "    有工作：0代表否，1代表是；\n",
    "    有自己的房子：0代表否，1代表是；\n",
    "    信贷情况：0代表一般，1代表好，2代表非常好；\n",
    "    类别(是否给贷款)：0代表否，1代表是\n",
    "    \"\"\"\n",
    "    f = open(fileName, 'r')\n",
    "    lines = f.readlines()\n",
    "    labels = ['age', 'have work', 'have house', 'credit']\n",
    "    dataSet = []\n",
    "    for line in lines[:]:\n",
    "        line = line.strip().split(',')\n",
    "        dataSet.append(line)\n",
    "    return dataSet, labels"
   ]
  },
  {
   "cell_type": "code",
   "execution_count": 8,
   "metadata": {},
   "outputs": [],
   "source": [
    "def readTestData(fileName):\n",
    "    \"\"\"\n",
    "    年龄段：0代表青年，1代表中年，2代表老年；\n",
    "    有工作：0代表否，1代表是；\n",
    "    有自己的房子：0代表否，1代表是；\n",
    "    信贷情况：0代表一般，1代表好，2代表非常好；\n",
    "    类别(是否给贷款)：0代表否，1代表是\n",
    "    \"\"\"\n",
    "    f = open(fileName, 'r')\n",
    "    lines = f.readlines()\n",
    "    dataSet = []\n",
    "    for line in lines[:]:\n",
    "        line = line.strip().stripplit(',')\n",
    "        dataSet.append(line)\n",
    "    return dataSet"
   ]
  },
  {
   "cell_type": "code",
   "execution_count": 9,
   "metadata": {},
   "outputs": [],
   "source": [
    "def calEntropy(dataMat):\n",
    "    '''\n",
    "    计算熵\n",
    "    gain(D,A) = H(D) - H(D|A)\n",
    "    这里这个函数是计算H(D)\n",
    "    '''\n",
    "    numTrainData = len(dataMat)\n",
    "    labelCounts = {}\n",
    "    for featVec in dataset:\n",
    "        currentlabel=featVec[-1]\n",
    "        if currentlabel not in labelCounts.keys():\n",
    "            labelCounts[currentlabel]=0\n",
    "        labelCounts[currentlabel]+=1\n",
    "    Ent = 0\n",
    "    for key in labelCounts:\n",
    "        p=float(labelCounts[key])/numEntries\n",
    "        Ent=Ent-p*log(p,2)#以2为底求对数\n",
    "    return Ent"
   ]
  },
  {
   "cell_type": "code",
   "execution_count": null,
   "metadata": {},
   "outputs": [],
   "source": [
    "def splitDataByFeature(dataMat, axis, value):\n",
    "    '''\n",
    "    根据特征划分数据集用于计算条件上熵\n",
    "    '''\n",
    "    retDataSet=[]#创建返回的数据集列表\n",
    "    for featVec in dataset:#抽取符合划分特征的值\n",
    "        if featVec[axis]==value:\n",
    "            reducedFeatVec=featVec[:axis] #去掉axis特征\n",
    "            reducedFeatVec.extend(featVec[axis+1:])#将符合条件的特征添加到返回的数据集列表\n",
    "            retDataSet.append(reducedFeatVec)\n",
    "    return retDataSet\n",
    "    \n",
    "    \n",
    "def ID3(dataMat):\n",
    "    '''\n",
    "    ID3算法:以信息增益为准则选择划分属性\n",
    "    gain(D,A) = H(D) - H(D|A)\n",
    "    这里计算gain(D,A)\n",
    "    '''\n",
    "    maxInfoGain = 0\n",
    "    bestFeature = -1\n",
    "    numFeatures = len(dataMat[0]) - 1\n",
    "    Ent = calEntropy(dataMat)\n",
    "    for i in range(numFeatures):\n",
    "        featList = [example[i] for example in dataMat]\n",
    "        uniqueVals=set(featList) #将特征列表创建成为set集合，元素不可重复。创建唯一的分类标签列表\n",
    "        for value in uniqueVals:     #计算每种划分方式的信息熵\n",
    "            subDataMat = splitDataByFeature(dataMat, i, value)\n",
    "            p = len(subDataMat) / float(len(dataMat))\n",
    "            featureEnt = p * calEntropy(subDataMat)\n",
    "        infoGain = Ent - featureEnt\n",
    "        print(u\"ID3中第%d个特征的信息增益为：%.3f\"%(i,infoGain))\n",
    "        if(infoGain > maxInfoGain):\n",
    "            maxInfoGain = infoGain\n",
    "            bestFeature = i\n",
    "    return bestFeature"
   ]
  },
  {
   "cell_type": "code",
   "execution_count": 10,
   "metadata": {},
   "outputs": [
    {
     "data": {
      "text/plain": [
       "([['0', '0', '0', '0', '0'],\n",
       "  ['0', '0', '0', '1', '0'],\n",
       "  ['0', '1', '0', '1', '1'],\n",
       "  ['0', '1', '1', '0', '1'],\n",
       "  ['0', '0', '0', '0', '0'],\n",
       "  ['1', '0', '0', '0', '0'],\n",
       "  ['1', '0', '0', '1', '0'],\n",
       "  ['1', '1', '1', '1', '1'],\n",
       "  ['1', '0', '1', '2', '1'],\n",
       "  ['1', '0', '1', '2', '1'],\n",
       "  ['2', '0', '1', '2', '1'],\n",
       "  ['2', '0', '1', '1', '1'],\n",
       "  ['2', '1', '0', '1', '1'],\n",
       "  ['2', '1', '0', '2', '1'],\n",
       "  ['2', '0', '0', '0', '0'],\n",
       "  ['2', '0', '0', '2', '0']],\n",
       " ['age', 'have work', 'have house', 'credit'])"
      ]
     },
     "execution_count": 10,
     "metadata": {},
     "output_type": "execute_result"
    }
   ],
   "source": [
    "readTrainData('./data/dataset.txt')"
   ]
  }
 ],
 "metadata": {
  "kernelspec": {
   "display_name": "Python 3",
   "language": "python",
   "name": "python3"
  },
  "language_info": {
   "codemirror_mode": {
    "name": "ipython",
    "version": 3
   },
   "file_extension": ".py",
   "mimetype": "text/x-python",
   "name": "python",
   "nbconvert_exporter": "python",
   "pygments_lexer": "ipython3",
   "version": "3.7.6"
  }
 },
 "nbformat": 4,
 "nbformat_minor": 4
}
