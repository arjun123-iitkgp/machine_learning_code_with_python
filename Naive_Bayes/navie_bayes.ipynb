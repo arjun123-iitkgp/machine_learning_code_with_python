{
 "cells": [
  {
   "cell_type": "markdown",
   "metadata": {},
   "source": [
    "### 朴素贝叶斯算法流程：\n",
    "\n",
    "朴素贝叶斯是经典的生成学习方法。即：由训练数据学习联合概率分布P（X，Y），然后求得后验概率分布P（Y｜X）。\n",
    "也就是利用训练数据学习P（X｜Y）和P（Y）的估计，得到联合概率分布：P（X，Y）= P（Y）P（X｜Y）。\n",
    "概率估计方法可以是极大似然估计，也可以是贝叶斯估计。\n",
    "\n",
    "1、计算先验概率P（Y=ck）和条件概率P（X=x｜Y=ck）；  \n",
    "2、对于给定的实例X，计算：P（Y=ck）乘以连乘【P（X=xi｜Y=ck）】，X的各个分类特征之间相互独立，即条件独立性假设；  \n",
    "3、确定实例X的嘞类：y=P(Y=ck|X=x) = argmaxP（Y=ck）乘以连乘【P（X=xi｜Y=ck）】。  \n",
    "\n",
    "下面我们给出一个垃圾邮件分类的例子。\n",
    "参考了https://github.com/Asia-Lee/Naive_Bayes/blob/master/Email_NB.py"
   ]
  },
  {
   "cell_type": "code",
   "execution_count": 156,
   "metadata": {},
   "outputs": [],
   "source": [
    "#coding:utf-8\n",
    "import os, sys\n",
    "import numpy as np;\n",
    "import random\n",
    "import re"
   ]
  },
  {
   "cell_type": "code",
   "execution_count": 157,
   "metadata": {},
   "outputs": [],
   "source": [
    "\"\"\"\n",
    "函数说明:接收一个大字符串并将其解析为字符串列表\n",
    "\"\"\"\n",
    "def textParse(bigString):  # 将字符串转换为字符列表\n",
    "    listOfTokens = re.split(r'\\W+', bigString)  # 将特殊符号作为切分标志进行字符串切分，即非字母、非数字\n",
    "    return [tok.lower() for tok in listOfTokens if len(tok) > 2]  # 除了单个字母，例如大写的I，其它单词变成小写\n",
    "\n",
    "\"\"\"\n",
    "函数说明:将切分的实验样本词条整理成不重复的词条列表，也就是词汇表\n",
    "Parameters:\n",
    "    dataSet - 整理的样本数据集\n",
    "Returns:\n",
    "    vocabSet - 返回不重复的词条列表，也就是词汇表\n",
    "\"\"\"\n",
    "def createVocabList(dataSet):\n",
    "    vocabSet = set([])  # 创建一个空的不重复列表\n",
    "    for document in dataSet:\n",
    "        vocabSet = vocabSet | set(document)  # 取并集\n",
    "    return list(vocabSet)\n",
    "\n",
    "\"\"\"\n",
    "函数说明:根据vocabList词汇表，将inputSet向量化，向量的每个元素为1或0\n",
    "Parameters:\n",
    "    vocabList - createVocabList返回的列表\n",
    "    inputSet - 切分的词条列表\n",
    "Returns:\n",
    "    returnVec - 文档向量,词集模型\n",
    "\"\"\"\n",
    "def setOfWords2Vec(vocabList, inputSet):\n",
    "    returnVec = [0] * len(vocabList)               #创建一个其中所含元素都为0的向量\n",
    "    for word in inputSet:                          #遍历每个词条\n",
    "        if word in vocabList:                      #如果词条存在于词汇表中，则置1\n",
    "            returnVec[vocabList.index(word)] = 1\n",
    "        else:\n",
    "            print(\"the word: %s is not in my Vocabulary!\" % word)\n",
    "    return returnVec        #返回文档向量"
   ]
  },
  {
   "cell_type": "code",
   "execution_count": 158,
   "metadata": {},
   "outputs": [],
   "source": [
    "def navie_bayes(trainMatrix, trainCategory):\n",
    "    numTrainDocs = len(trainMatrix)  # 计算训练的文档数目\n",
    "    numWords = len(trainMatrix[0])  # 计算每篇文档的词条数\n",
    "    \n",
    "    # 1、计算先验概率P（Y=0）属于非垃圾邮件，和P（Y=1）属于垃圾邮件,# 文档属于垃圾邮件类的概率\n",
    "    pAbusive = sum(trainCategory) / float(numTrainDocs)  #trainCategory里面\n",
    "                    #垃圾邮件为1，非垃圾邮件为0，sum(trainCategory)代表所有垃圾邮件的个数，那么这个地方求得的就是\n",
    "                    #垃圾邮件的先验概率\n",
    "    \n",
    "    pNoAbusive = 1- pAbusive\n",
    "    \n",
    "    \n",
    "    # 2、用贝叶斯估计计算条件概率， 这里为了防止所估计的概率值为0，我们让lambda=1，即采用拉普拉斯平滑\n",
    "    p0Num = np.ones(numWords)\n",
    "    p1Num = np.ones(numWords)  # 创建numpy.ones数组,词条出现数初始化为1,拉普拉斯平滑\n",
    "    p0Denom = 1.0\n",
    "    p1Denom = 1.0  # 分母初始化为1 ,拉普拉斯平滑\n",
    "    for i in range(numTrainDocs):\n",
    "        # 2.1、计算垃圾邮件的条件概率P（X=x｜Y=1）\n",
    "        if trainCategory[i] == 1:\n",
    "            p1Num += trainMatrix[i]\n",
    "            p1Denom += sum(trainMatrix[i])\n",
    "        else:  # 统计属于非垃圾类的条件概率所需的数据，即P(w0|0),P(w1|0),P(w2|0)···\n",
    "            p0Num += trainMatrix[i]\n",
    "            p0Denom += sum(trainMatrix[i])\n",
    "    p1Vect = np.log(p1Num / p1Denom)\n",
    "    p0Vect = np.log(p0Num / p0Denom)   #取对数，在下面求乘积的时候就可以转换为求和\n",
    "\n",
    "    return p0Vect, p1Vect, pAbusive  # 返回属于正常邮件类的条件概率数组，属于垃圾邮件类的条件概率数组，文档属于垃圾邮件类的概率\n",
    "    \n",
    "\n",
    "def inference(vec2Classify, p0Vec, p1Vec, pClass1):\n",
    "    # 3、确定实例X的嘞类：y=P(Y=ck|X=x) = argmaxP（Y=ck）乘以连乘【P（X=xi｜Y=ck）】。\n",
    "    p1=sum(vec2Classify*p1Vec) + np.log(pClass1)\n",
    "    p0=sum(vec2Classify*p0Vec) + np.log(1.0-pClass1)\n",
    "    if p1 > p0:\n",
    "        return 1\n",
    "    else:\n",
    "        return 0"
   ]
  },
  {
   "cell_type": "code",
   "execution_count": 159,
   "metadata": {},
   "outputs": [],
   "source": [
    "def main():\n",
    "    docList = []\n",
    "    classList = []\n",
    "    fullText = []\n",
    "    for i in range(1, 26):  # 遍历25个txt文件\n",
    "        wordList = textParse(open('data/spam/%d.txt' % i, 'rb', encoding='ISO-8859-1').read())  # 读取每个垃圾邮件，并字符串转换成字符串列表\n",
    "        docList.append(wordList)\n",
    "        fullText.append(wordList)\n",
    "        classList.append(1)  # 标记垃圾邮件，1表示垃圾文件\n",
    "        wordList = textParse(open('data/ham/%d.txt' % i, 'rb', encoding='ISO-8859-1').read())  # 读取每个非垃圾邮件，并字符串转换成字符串列表\n",
    "        docList.append(wordList)\n",
    "        fullText.append(wordList)\n",
    "        classList.append(0)  # 标记正常邮件，0表示正常文件\n",
    "    vocabList = createVocabList(docList)  # 创建词汇表，不重复\n",
    "    trainingSet = list(range(50))\n",
    "    testSet = []  # 创建存储训练集的索引值的列表和测试集的索引值的列表\n",
    "    for i in range(10):  # 从50个邮件中，随机挑选出40个作为训练集,10个做测试集\n",
    "        randIndex = int(random.uniform(0, len(trainingSet)))  # 随机选取索索引值\n",
    "        testSet.append(trainingSet[randIndex])  # 添加测试集的索引值\n",
    "        del (trainingSet[randIndex])  # 在训练集列表中删除添加到测试集的索引值\n",
    "    trainMat = []\n",
    "    trainClasses = []  # 创建训练集矩阵和训练集类别标签系向量\n",
    "    for docIndex in trainingSet:  # 遍历训练集\n",
    "        trainMat.append(setOfWords2Vec(vocabList, docList[docIndex]))  # 将生成的词集模型添加到训练矩阵中\n",
    "        trainClasses.append(classList[docIndex])  # 将类别添加到训练集类别标签系向量中\n",
    "    p0V, p1V, pSpam = trainNB0(np.array(trainMat), np.array(trainClasses))  # 训练朴素贝叶斯模型\n",
    "    errorCount = 0  # 错误分类计数\n",
    "    for docIndex in testSet:  # 遍历测试集\n",
    "        wordVector = setOfWords2Vec(vocabList, docList[docIndex])  # 测试集的词集模型\n",
    "        if classifyNB(np.array(wordVector), p0V, p1V, pSpam) != classList[docIndex]:  # 如果分类错误\n",
    "            errorCount += 1  # 错误计数加1\n",
    "            print(\"分类错误的测试集：\", docList[docIndex])\n",
    "    print('错误率：%.2f%%' % (float(errorCount) / len(testSet) * 100))"
   ]
  },
  {
   "cell_type": "code",
   "execution_count": 160,
   "metadata": {},
   "outputs": [
    {
     "ename": "ValueError",
     "evalue": "binary mode doesn't take an encoding argument",
     "output_type": "error",
     "traceback": [
      "\u001b[0;31m---------------------------------------------------------------------------\u001b[0m",
      "\u001b[0;31mValueError\u001b[0m                                Traceback (most recent call last)",
      "\u001b[0;32m<ipython-input-160-c7bc734e5e35>\u001b[0m in \u001b[0;36m<module>\u001b[0;34m\u001b[0m\n\u001b[1;32m      1\u001b[0m \u001b[0;32mif\u001b[0m \u001b[0m__name__\u001b[0m \u001b[0;34m==\u001b[0m \u001b[0;34m'__main__'\u001b[0m\u001b[0;34m:\u001b[0m\u001b[0;34m\u001b[0m\u001b[0;34m\u001b[0m\u001b[0m\n\u001b[0;32m----> 2\u001b[0;31m     \u001b[0mmain\u001b[0m\u001b[0;34m(\u001b[0m\u001b[0;34m)\u001b[0m\u001b[0;34m\u001b[0m\u001b[0;34m\u001b[0m\u001b[0m\n\u001b[0m",
      "\u001b[0;32m<ipython-input-159-c90777e36543>\u001b[0m in \u001b[0;36mmain\u001b[0;34m()\u001b[0m\n\u001b[1;32m      4\u001b[0m     \u001b[0mfullText\u001b[0m \u001b[0;34m=\u001b[0m \u001b[0;34m[\u001b[0m\u001b[0;34m]\u001b[0m\u001b[0;34m\u001b[0m\u001b[0;34m\u001b[0m\u001b[0m\n\u001b[1;32m      5\u001b[0m     \u001b[0;32mfor\u001b[0m \u001b[0mi\u001b[0m \u001b[0;32min\u001b[0m \u001b[0mrange\u001b[0m\u001b[0;34m(\u001b[0m\u001b[0;36m1\u001b[0m\u001b[0;34m,\u001b[0m \u001b[0;36m26\u001b[0m\u001b[0;34m)\u001b[0m\u001b[0;34m:\u001b[0m  \u001b[0;31m# 遍历25个txt文件\u001b[0m\u001b[0;34m\u001b[0m\u001b[0;34m\u001b[0m\u001b[0m\n\u001b[0;32m----> 6\u001b[0;31m         \u001b[0mwordList\u001b[0m \u001b[0;34m=\u001b[0m \u001b[0mtextParse\u001b[0m\u001b[0;34m(\u001b[0m\u001b[0mopen\u001b[0m\u001b[0;34m(\u001b[0m\u001b[0;34m'data/spam/%d.txt'\u001b[0m \u001b[0;34m%\u001b[0m \u001b[0mi\u001b[0m\u001b[0;34m,\u001b[0m \u001b[0;34m'rb'\u001b[0m\u001b[0;34m,\u001b[0m \u001b[0mencoding\u001b[0m\u001b[0;34m=\u001b[0m\u001b[0;34m'ISO-8859-1'\u001b[0m\u001b[0;34m)\u001b[0m\u001b[0;34m.\u001b[0m\u001b[0mread\u001b[0m\u001b[0;34m(\u001b[0m\u001b[0;34m)\u001b[0m\u001b[0;34m)\u001b[0m  \u001b[0;31m# 读取每个垃圾邮件，并字符串转换成字符串列表\u001b[0m\u001b[0;34m\u001b[0m\u001b[0;34m\u001b[0m\u001b[0m\n\u001b[0m\u001b[1;32m      7\u001b[0m         \u001b[0mdocList\u001b[0m\u001b[0;34m.\u001b[0m\u001b[0mappend\u001b[0m\u001b[0;34m(\u001b[0m\u001b[0mwordList\u001b[0m\u001b[0;34m)\u001b[0m\u001b[0;34m\u001b[0m\u001b[0;34m\u001b[0m\u001b[0m\n\u001b[1;32m      8\u001b[0m         \u001b[0mfullText\u001b[0m\u001b[0;34m.\u001b[0m\u001b[0mappend\u001b[0m\u001b[0;34m(\u001b[0m\u001b[0mwordList\u001b[0m\u001b[0;34m)\u001b[0m\u001b[0;34m\u001b[0m\u001b[0;34m\u001b[0m\u001b[0m\n",
      "\u001b[0;31mValueError\u001b[0m: binary mode doesn't take an encoding argument"
     ]
    }
   ],
   "source": [
    "if __name__ == '__main__':\n",
    "    main()"
   ]
  }
 ],
 "metadata": {
  "kernelspec": {
   "display_name": "Python 3",
   "language": "python",
   "name": "python3"
  },
  "language_info": {
   "codemirror_mode": {
    "name": "ipython",
    "version": 3
   },
   "file_extension": ".py",
   "mimetype": "text/x-python",
   "name": "python",
   "nbconvert_exporter": "python",
   "pygments_lexer": "ipython3",
   "version": "3.7.6"
  }
 },
 "nbformat": 4,
 "nbformat_minor": 4
}
